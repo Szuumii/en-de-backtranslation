{
 "cells": [
  {
   "cell_type": "code",
   "execution_count": 1,
   "metadata": {},
   "outputs": [],
   "source": [
    "import os\n",
    "\n",
    "os.chdir(\"../\")"
   ]
  },
  {
   "cell_type": "code",
   "execution_count": 2,
   "metadata": {},
   "outputs": [
    {
     "name": "stdout",
     "output_type": "stream",
     "text": [
      "/Users/jakubszumski/GitRepos/en-de-backtranslation\n"
     ]
    }
   ],
   "source": [
    "!pwd"
   ]
  },
  {
   "cell_type": "code",
   "execution_count": 2,
   "metadata": {
    "id": "b9YRiMzHdafl"
   },
   "outputs": [
    {
     "name": "stderr",
     "output_type": "stream",
     "text": [
      "\u001b[34m\u001b[1mwandb\u001b[0m: You can find your API key in your browser here: https://wandb.ai/authorize\n"
     ]
    },
    {
     "name": "stdin",
     "output_type": "stream",
     "text": [
      "\u001b[34m\u001b[1mwandb\u001b[0m: Paste an API key from your profile and hit enter, or press ctrl+c to quit:  ········································\n"
     ]
    },
    {
     "name": "stderr",
     "output_type": "stream",
     "text": [
      "\u001b[34m\u001b[1mwandb\u001b[0m: Appending key for api.wandb.ai to your netrc file: /Users/jakubszumski/.netrc\n"
     ]
    },
    {
     "data": {
      "text/plain": [
       "True"
      ]
     },
     "execution_count": 2,
     "metadata": {},
     "output_type": "execute_result"
    }
   ],
   "source": [
    "import wandb\n",
    "wandb.login()"
   ]
  },
  {
   "cell_type": "code",
   "execution_count": 3,
   "metadata": {
    "id": "OycGg77va6xt"
   },
   "outputs": [
    {
     "name": "stdout",
     "output_type": "stream",
     "text": [
      "zsh:1: command not found: fairseq-preprocess\n"
     ]
    }
   ],
   "source": [
    "!fairseq-preprocess --source-lang en --target-lang de \\\n",
    "  --trainpref ./data/datasets/unaugmented/original.train \\\n",
    "  --validpref ./data/datasets/unaugmented/original.val  \\\n",
    "  --testpref  ./data/datasets/unaugmented/original.test  \\\n",
    "  --destdir ./data/binarized/original.tokenized.en-de \\\n",
    "  --thresholdsrc 2 \\\n",
    "  --thresholdtgt 2"
   ]
  },
  {
   "cell_type": "code",
   "execution_count": null,
   "metadata": {
    "id": "5RGvS-Yxb8C8"
   },
   "outputs": [],
   "source": [
    "! fairseq-train data-bin/multi30k.tokenized.de-en \\\n",
    "  --arch transformer \\\n",
    "  --dropout 0.1 \\\n",
    "  --attention-dropout 0.1 \\\n",
    "  --activation-dropout 0.1 \\\n",
    "  --encoder-embed-dim 256 \\\n",
    "  --encoder-ffn-embed-dim 512 \\\n",
    "  --encoder-layers 3 \\\n",
    "  --encoder-attention-heads 8 \\\n",
    "  --encoder-learned-pos \\\n",
    "  --decoder-embed-dim 256 \\\n",
    "  --decoder-ffn-embed-dim 512 \\\n",
    "  --decoder-layers 3 \\\n",
    "  --decoder-attention-heads 8 \\\n",
    "  --decoder-learned-pos \\\n",
    "  --max-epoch 10 \\\n",
    "  --optimizer adam \\\n",
    "  --lr 5e-4 \\\n",
    "  --batch-size 128 \\\n",
    "  --seed 1 \\\n",
    "  --wandb-project \"Multi 30K En to De Translation\""
   ]
  },
  {
   "cell_type": "code",
   "execution_count": null,
   "metadata": {
    "id": "_Hf24_vOeZ6O"
   },
   "outputs": [],
   "source": [
    "# ckpt_best, beam=5\n",
    "! fairseq-generate data-bin/multi30k.tokenized.de-en \\\n",
    "    --path checkpoints/checkpoint_best.pt \\\n",
    "    --batch-size 128 \\\n",
    "    --beam 5 \\\n",
    "    --seed 1 \\\n",
    "    --scoring bleu \\\n",
    "    --wandb-project \"Multi 30K En to De Translation\""
   ]
  },
  {
   "cell_type": "code",
   "execution_count": null,
   "metadata": {
    "colab": {
     "base_uri": "https://localhost:8080/"
    },
    "id": "MiQGHRyGfSY9",
    "outputId": "dde94174-133a-4765-a80b-68f42f241c07"
   },
   "outputs": [
    {
     "name": "stdout",
     "output_type": "stream",
     "text": [
      "2022-05-11 19:06:49 | INFO | fairseq.tasks.text_to_speech | Please install tensorboardX: pip install tensorboardX\n",
      "2022-05-11 19:06:51 | INFO | fairseq_cli.generate | {'_name': None, 'common': {'_name': None, 'no_progress_bar': False, 'log_interval': 100, 'log_format': None, 'log_file': None, 'aim_repo': None, 'aim_run_hash': None, 'tensorboard_logdir': None, 'wandb_project': 'Multi 30K En to De Translation', 'azureml_logging': False, 'seed': 1, 'cpu': False, 'tpu': False, 'bf16': False, 'memory_efficient_bf16': False, 'fp16': False, 'memory_efficient_fp16': False, 'fp16_no_flatten_grads': False, 'fp16_init_scale': 128, 'fp16_scale_window': None, 'fp16_scale_tolerance': 0.0, 'on_cpu_convert_precision': False, 'min_loss_scale': 0.0001, 'threshold_loss_scale': None, 'amp': False, 'amp_batch_retries': 2, 'amp_init_scale': 128, 'amp_scale_window': None, 'user_dir': None, 'empty_cache_freq': 0, 'all_gather_list_size': 16384, 'model_parallel_size': 1, 'quantization_config_path': None, 'profile': False, 'reset_logging': False, 'suppress_crashes': False, 'use_plasma_view': False, 'plasma_path': '/tmp/plasma'}, 'common_eval': {'_name': None, 'path': 'checkpoints/checkpoint_best.pt', 'post_process': None, 'quiet': True, 'model_overrides': '{}', 'results_path': None}, 'distributed_training': {'_name': None, 'distributed_world_size': 1, 'distributed_num_procs': 1, 'distributed_rank': 0, 'distributed_backend': 'nccl', 'distributed_init_method': None, 'distributed_port': -1, 'device_id': 0, 'distributed_no_spawn': False, 'ddp_backend': 'pytorch_ddp', 'ddp_comm_hook': 'none', 'bucket_cap_mb': 25, 'fix_batches_to_gpus': False, 'find_unused_parameters': False, 'gradient_as_bucket_view': False, 'fast_stat_sync': False, 'heartbeat_timeout': -1, 'broadcast_buffers': False, 'slowmo_momentum': None, 'slowmo_base_algorithm': 'localsgd', 'localsgd_frequency': 3, 'nprocs_per_node': 1, 'pipeline_model_parallel': False, 'pipeline_balance': None, 'pipeline_devices': None, 'pipeline_chunks': 0, 'pipeline_encoder_balance': None, 'pipeline_encoder_devices': None, 'pipeline_decoder_balance': None, 'pipeline_decoder_devices': None, 'pipeline_checkpoint': 'never', 'zero_sharding': 'none', 'fp16': False, 'memory_efficient_fp16': False, 'tpu': False, 'no_reshard_after_forward': False, 'fp32_reduce_scatter': False, 'cpu_offload': False, 'use_sharded_state': False, 'not_fsdp_flatten_parameters': False}, 'dataset': {'_name': None, 'num_workers': 1, 'skip_invalid_size_inputs_valid_test': False, 'max_tokens': None, 'batch_size': 128, 'required_batch_size_multiple': 8, 'required_seq_len_multiple': 1, 'dataset_impl': None, 'data_buffer_size': 10, 'train_subset': 'train', 'valid_subset': 'valid', 'combine_valid_subsets': None, 'ignore_unused_valid_subsets': False, 'validate_interval': 1, 'validate_interval_updates': 0, 'validate_after_updates': 0, 'fixed_validation_seed': None, 'disable_validation': False, 'max_tokens_valid': None, 'batch_size_valid': 128, 'max_valid_steps': None, 'curriculum': 0, 'gen_subset': 'test', 'num_shards': 1, 'shard_id': 0, 'grouped_shuffling': False, 'update_epoch_batch_itr': False, 'update_ordered_indices_seed': False}, 'optimization': {'_name': None, 'max_epoch': 0, 'max_update': 0, 'stop_time_hours': 0.0, 'clip_norm': 0.0, 'sentence_avg': False, 'update_freq': [1], 'lr': [0.25], 'stop_min_lr': -1.0, 'use_bmuf': False, 'skip_remainder_batch': False}, 'checkpoint': {'_name': None, 'save_dir': 'checkpoints', 'restore_file': 'checkpoint_last.pt', 'continue_once': None, 'finetune_from_model': None, 'reset_dataloader': False, 'reset_lr_scheduler': False, 'reset_meters': False, 'reset_optimizer': False, 'optimizer_overrides': '{}', 'save_interval': 1, 'save_interval_updates': 0, 'keep_interval_updates': -1, 'keep_interval_updates_pattern': -1, 'keep_last_epochs': -1, 'keep_best_checkpoints': -1, 'no_save': False, 'no_epoch_checkpoints': False, 'no_last_checkpoints': False, 'no_save_optimizer_state': False, 'best_checkpoint_metric': 'loss', 'maximize_best_checkpoint_metric': False, 'patience': -1, 'checkpoint_suffix': '', 'checkpoint_shard_count': 1, 'load_checkpoint_on_all_dp_ranks': False, 'write_checkpoints_asynchronously': False, 'model_parallel_size': 1}, 'bmuf': {'_name': None, 'block_lr': 1.0, 'block_momentum': 0.875, 'global_sync_iter': 50, 'warmup_iterations': 500, 'use_nbm': False, 'average_sync': False, 'distributed_world_size': 1}, 'generation': {'_name': None, 'beam': 10, 'nbest': 1, 'max_len_a': 0.0, 'max_len_b': 200, 'min_len': 1, 'match_source_len': False, 'unnormalized': False, 'no_early_stop': False, 'no_beamable_mm': False, 'lenpen': 1.0, 'unkpen': 0.0, 'replace_unk': None, 'sacrebleu': False, 'score_reference': False, 'prefix_size': 0, 'no_repeat_ngram_size': 0, 'sampling': False, 'sampling_topk': -1, 'sampling_topp': -1.0, 'constraints': None, 'temperature': 1.0, 'diverse_beam_groups': -1, 'diverse_beam_strength': 0.5, 'diversity_rate': -1.0, 'print_alignment': None, 'print_step': False, 'lm_path': None, 'lm_weight': 0.0, 'iter_decode_eos_penalty': 0.0, 'iter_decode_max_iter': 10, 'iter_decode_force_max_iter': False, 'iter_decode_with_beam': 1, 'iter_decode_with_external_reranker': False, 'retain_iter_history': False, 'retain_dropout': False, 'retain_dropout_modules': None, 'decoding_format': None, 'no_seed_provided': False, 'eos_token': None}, 'eval_lm': {'_name': None, 'output_word_probs': False, 'output_word_stats': False, 'context_window': 0, 'softmax_batch': 9223372036854775807}, 'interactive': {'_name': None, 'buffer_size': 0, 'input': '-'}, 'model': {'_name': 'wav2vec2', 'extractor_mode': 'default', 'encoder_layers': 12, 'encoder_embed_dim': 768, 'encoder_ffn_embed_dim': 3072, 'encoder_attention_heads': 12, 'activation_fn': 'gelu', 'layer_type': 'transformer', 'dropout': 0.1, 'attention_dropout': 0.1, 'activation_dropout': 0.0, 'encoder_layerdrop': 0.0, 'dropout_input': 0.0, 'dropout_features': 0.0, 'final_dim': 0, 'layer_norm_first': False, 'conv_feature_layers': '[(512, 10, 5)] + [(512, 3, 2)] * 4 + [(512,2,2)] + [(512,2,2)]', 'conv_bias': False, 'logit_temp': 0.1, 'quantize_targets': False, 'quantize_input': False, 'same_quantizer': False, 'target_glu': False, 'feature_grad_mult': 1.0, 'quantizer_depth': 1, 'quantizer_factor': 3, 'latent_vars': 320, 'latent_groups': 2, 'latent_dim': 0, 'mask_length': 10, 'mask_prob': 0.65, 'mask_selection': 'static', 'mask_other': 0.0, 'no_mask_overlap': False, 'mask_min_space': 1, 'require_same_masks': True, 'mask_dropout': 0.0, 'mask_channel_length': 10, 'mask_channel_prob': 0.0, 'mask_channel_before': False, 'mask_channel_selection': 'static', 'mask_channel_other': 0.0, 'no_mask_channel_overlap': False, 'mask_channel_min_space': 1, 'num_negatives': 100, 'negatives_from_everywhere': False, 'cross_sample_negatives': 0, 'codebook_negatives': 0, 'conv_pos': 128, 'conv_pos_groups': 16, 'pos_conv_depth': 1, 'latent_temp': [2.0, 0.5, 0.999995], 'max_positions': 100000, 'checkpoint_activations': False, 'required_seq_len_multiple': 1, 'crop_seq_to_multiple': 1, 'depthwise_conv_kernel_size': 31, 'attn_type': '', 'pos_enc_type': 'abs', 'fp16': False}, 'task': {'_name': 'translation', 'data': 'data-bin/multi30k.tokenized.de-en', 'source_lang': None, 'target_lang': None, 'load_alignments': False, 'left_pad_source': True, 'left_pad_target': False, 'max_source_positions': 1024, 'max_target_positions': 1024, 'upsample_primary': -1, 'truncate_source': False, 'num_batch_buckets': 0, 'train_subset': 'train', 'dataset_impl': None, 'required_seq_len_multiple': 1, 'eval_bleu': False, 'eval_bleu_args': '{}', 'eval_bleu_detok': 'space', 'eval_bleu_detok_args': '{}', 'eval_tokenized_bleu': False, 'eval_bleu_remove_bpe': None, 'eval_bleu_print_samples': False}, 'criterion': {'_name': 'cross_entropy', 'sentence_avg': True}, 'optimizer': None, 'lr_scheduler': {'_name': 'fixed', 'force_anneal': None, 'lr_shrink': 0.1, 'warmup_updates': 0, 'lr': [0.25]}, 'scoring': {'_name': 'bleu', 'pad': 1, 'eos': 2, 'unk': 3}, 'bpe': None, 'tokenizer': None, 'ema': {'_name': None, 'store_ema': False, 'ema_decay': 0.9999, 'ema_start_update': 0, 'ema_seed_model': None, 'ema_update_freq': 1, 'ema_fp32': False}}\n",
      "2022-05-11 19:06:51 | INFO | fairseq.tasks.translation | [de] dictionary: 7864 types\n",
      "2022-05-11 19:06:51 | INFO | fairseq.tasks.translation | [en] dictionary: 5928 types\n",
      "2022-05-11 19:06:51 | INFO | fairseq_cli.generate | loading model(s) from checkpoints/checkpoint_best.pt\n",
      "2022-05-11 19:06:52 | INFO | fairseq.data.data_utils | loaded 1,071 examples from: data-bin/multi30k.tokenized.de-en/test.de-en.de\n",
      "2022-05-11 19:06:52 | INFO | fairseq.data.data_utils | loaded 1,071 examples from: data-bin/multi30k.tokenized.de-en/test.de-en.en\n",
      "2022-05-11 19:06:52 | INFO | fairseq.tasks.translation | data-bin/multi30k.tokenized.de-en test de-en 1071 examples\n",
      "2022-05-11 19:07:02 | INFO | fairseq_cli.generate | NOTE: hypothesis and token scores are output in base 2\n",
      "2022-05-11 19:07:02 | INFO | fairseq_cli.generate | Translated 1,071 sentences (14,724 tokens) in 3.5s (310.09 sentences/s, 4263.07 tokens/s)\n",
      "Generate test with beam=10: BLEU4 = 25.87, 63.8/36.0/21.0/12.6 (BP=0.926, ratio=0.929, syslen=13653, reflen=14697)\n"
     ]
    }
   ],
   "source": [
    "# ckpt_best, beam=10\n",
    "! fairseq-generate data-bin/multi30k.tokenized.de-en \\\n",
    "    --path checkpoints/checkpoint_best.pt \\\n",
    "    --batch-size 128 \\\n",
    "    --beam 10 \\\n",
    "    # 1, 3, 5, 10, 50\n",
    "    --seed 1 \\\n",
    "    --scoring bleu \\\n",
    "    --quiet \\\n",
    "    --wandb-project \"Multi 30K En to De Translation\""
   ]
  },
  {
   "cell_type": "markdown",
   "metadata": {
    "id": "PIt8meXUGiYf"
   },
   "source": [
    "# Generate Average Checkpoint (Ensemble)"
   ]
  },
  {
   "cell_type": "code",
   "execution_count": null,
   "metadata": {
    "id": "z_szOyTrh7dT"
   },
   "outputs": [],
   "source": [
    "! python fairseq/scripts/average_checkpoints.py --inputs checkpoints --num-epoch-checkpoints 5 --output checkpoints/averaged.pt"
   ]
  },
  {
   "cell_type": "code",
   "execution_count": null,
   "metadata": {
    "id": "BXUrAzfDiMpo"
   },
   "outputs": [],
   "source": [
    "# ckpt_avg, beam=5\n",
    "! fairseq-generate data-bin/multi30k.tokenized.de-en \\\n",
    "    --path checkpoints/averaged.pt \\\n",
    "    --batch-size 128 \\\n",
    "    --beam 5 \\\n",
    "    --seed 1 \\\n",
    "    --scoring bleu \\\n",
    "    --quiet \\\n",
    "    --wandb-project \"Multi 30K En to De Translation\""
   ]
  },
  {
   "cell_type": "code",
   "execution_count": null,
   "metadata": {
    "id": "FxUH5NcvDYAb"
   },
   "outputs": [],
   "source": [
    "# ckpt_avg, beam=10\n",
    "! fairseq-generate data-bin/multi30k.tokenized.de-en \\\n",
    "    --path checkpoints/averaged.pt \\\n",
    "    --batch-size 128 \\\n",
    "    --beam 10 \\\n",
    "    --seed 1 \\\n",
    "    --scoring bleu \\\n",
    "    --quiet \\\n",
    "    --wandb-project \"Multi 30K En to De Translation\""
   ]
  },
  {
   "cell_type": "markdown",
   "metadata": {
    "id": "F12YaRWtHSkQ"
   },
   "source": [
    "# Export the model"
   ]
  },
  {
   "cell_type": "code",
   "execution_count": null,
   "metadata": {
    "id": "opOQi-zmip5y"
   },
   "outputs": [],
   "source": [
    "! mkdir -p trained_model\n",
    "! cp data-bin/multi30k.tokenized.de-en/dict.de.txt trained_model/dict.de.txt\n",
    "! cp data-bin/multi30k.tokenized.de-en/dict.en.txt trained_model/dict.en.txt\n",
    "! cp checkpoints/averaged.pt trained_model/model.pt"
   ]
  },
  {
   "cell_type": "code",
   "execution_count": null,
   "metadata": {
    "id": "Z2DDlFlTkwnf"
   },
   "outputs": [],
   "source": [
    "! fairseq-interactive \\\n",
    "  --path trained_model/model.pt \\\n",
    "  --source-lang de --target-lang en \\\n",
    "  --tokenizer moses \\\n",
    "  --task translation --cpu \\\n",
    "  --beam 5 \\\n",
    "  trained_model/"
   ]
  }
 ],
 "metadata": {
  "colab": {
   "collapsed_sections": [],
   "name": "Kopia notatnika Translation model from scratch",
   "provenance": []
  },
  "kernelspec": {
   "display_name": "Python 3 (ipykernel)",
   "language": "python",
   "name": "python3"
  },
  "language_info": {
   "codemirror_mode": {
    "name": "ipython",
    "version": 3
   },
   "file_extension": ".py",
   "mimetype": "text/x-python",
   "name": "python",
   "nbconvert_exporter": "python",
   "pygments_lexer": "ipython3",
   "version": "3.9.0"
  }
 },
 "nbformat": 4,
 "nbformat_minor": 4
}
