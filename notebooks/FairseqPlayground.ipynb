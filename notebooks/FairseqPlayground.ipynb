{
 "cells": [
  {
   "cell_type": "markdown",
   "id": "d3675fbd-0a47-4911-a40d-c2ea6e9ec25b",
   "metadata": {},
   "source": [
    "# fairseq playground"
   ]
  },
  {
   "cell_type": "code",
   "execution_count": 1,
   "id": "7f83d63b-9f4c-4914-a8ee-2eea6a87d89b",
   "metadata": {},
   "outputs": [
    {
     "name": "stderr",
     "output_type": "stream",
     "text": [
      "/opt/homebrew/Caskroom/miniforge/base/envs/backtranslation/lib/python3.9/site-packages/tqdm/auto.py:22: TqdmWarning: IProgress not found. Please update jupyter and ipywidgets. See https://ipywidgets.readthedocs.io/en/stable/user_install.html\n",
      "  from .autonotebook import tqdm as notebook_tqdm\n",
      "Using cache found in /Users/wiktorlazarski/.cache/torch/hub/pytorch_fairseq_main\n",
      "2022-04-21 22:36:58 | INFO | fairseq.tasks.text_to_speech | Please install tensorboardX: pip install tensorboardX\n"
     ]
    },
    {
     "data": {
      "text/plain": [
       "['bart.base',\n",
       " 'bart.large',\n",
       " 'bart.large.cnn',\n",
       " 'bart.large.mnli',\n",
       " 'bart.large.xsum',\n",
       " 'bpe',\n",
       " 'camembert',\n",
       " 'camembert-base',\n",
       " 'camembert-base-ccnet',\n",
       " 'camembert-base-ccnet-4gb',\n",
       " 'camembert-base-oscar-4gb',\n",
       " 'camembert-base-wikipedia-4gb',\n",
       " 'camembert-large',\n",
       " 'camembert.v0',\n",
       " 'conv.stories',\n",
       " 'conv.stories.pretrained',\n",
       " 'conv.wmt14.en-de',\n",
       " 'conv.wmt14.en-fr',\n",
       " 'conv.wmt17.en-de',\n",
       " 'data.stories',\n",
       " 'dynamicconv.glu.wmt14.en-fr',\n",
       " 'dynamicconv.glu.wmt16.en-de',\n",
       " 'dynamicconv.glu.wmt17.en-de',\n",
       " 'dynamicconv.glu.wmt17.zh-en',\n",
       " 'dynamicconv.no_glu.iwslt14.de-en',\n",
       " 'dynamicconv.no_glu.wmt16.en-de',\n",
       " 'fastspeech2-en-200_speaker-cv4',\n",
       " 'fastspeech2-en-ljspeech',\n",
       " 'gottbert-base',\n",
       " 'lightconv.glu.wmt14.en-fr',\n",
       " 'lightconv.glu.wmt16.en-de',\n",
       " 'lightconv.glu.wmt17.en-de',\n",
       " 'lightconv.glu.wmt17.zh-en',\n",
       " 'lightconv.no_glu.iwslt14.de-en',\n",
       " 'lightconv.no_glu.wmt16.en-de',\n",
       " 'roberta.base',\n",
       " 'roberta.large',\n",
       " 'roberta.large.mnli',\n",
       " 'roberta.large.wsc',\n",
       " 's2t_transformer_l-en-asr-librispeech',\n",
       " 's2t_transformer_m-en-asr-librispeech',\n",
       " 's2t_transformer_s-en-asr-librispeech',\n",
       " 'tokenizer',\n",
       " 'transformer.flores101.mm100.175M',\n",
       " 'transformer.flores101.mm100.615M',\n",
       " 'transformer.wmt14.en-fr',\n",
       " 'transformer.wmt16.en-de',\n",
       " 'transformer.wmt18.en-de',\n",
       " 'transformer.wmt19.de-en',\n",
       " 'transformer.wmt19.de-en.single_model',\n",
       " 'transformer.wmt19.en-de',\n",
       " 'transformer.wmt19.en-de.single_model',\n",
       " 'transformer.wmt19.en-ru',\n",
       " 'transformer.wmt19.en-ru.single_model',\n",
       " 'transformer.wmt19.ru-en',\n",
       " 'transformer.wmt19.ru-en.single_model',\n",
       " 'transformer.wmt20.en-iu.news',\n",
       " 'transformer.wmt20.en-iu.nh',\n",
       " 'transformer.wmt20.en-ta',\n",
       " 'transformer.wmt20.iu-en.news',\n",
       " 'transformer.wmt20.iu-en.nh',\n",
       " 'transformer.wmt20.ta-en',\n",
       " 'transformer_lm.gbw.adaptive_huge',\n",
       " 'transformer_lm.wiki103.adaptive',\n",
       " 'transformer_lm.wmt19.de',\n",
       " 'transformer_lm.wmt19.en',\n",
       " 'transformer_lm.wmt19.ru',\n",
       " 'transformer_lm.wmt20.en',\n",
       " 'transformer_lm.wmt20.iu.news',\n",
       " 'transformer_lm.wmt20.iu.nh',\n",
       " 'transformer_lm.wmt20.ta',\n",
       " 'tts_transformer-ar-cv7_css10',\n",
       " 'tts_transformer-en-200_speaker-cv4',\n",
       " 'tts_transformer-en-ljspeech',\n",
       " 'tts_transformer-es-css10',\n",
       " 'tts_transformer-fr-cv7_css10',\n",
       " 'tts_transformer-ru-cv7_css10',\n",
       " 'tts_transformer-tr-cv7_css10',\n",
       " 'tts_transformer-vi-cv7',\n",
       " 'tts_transformer-zh-cv7_css10',\n",
       " 'xlmr.base',\n",
       " 'xlmr.large',\n",
       " 'xlmr.xl',\n",
       " 'xlmr.xxl',\n",
       " 'xm_transformer-21_en-xls_r_1b',\n",
       " 'xm_transformer-21_en-xls_r_2b',\n",
       " 'xm_transformer-21_en-xls_r_300m',\n",
       " 'xm_transformer-22_16-xls_r_2b',\n",
       " 'xm_transformer-en_15-xls_r_1b',\n",
       " 'xm_transformer-en_15-xls_r_2b',\n",
       " 'xm_transformer-en_15-xls_r_300m',\n",
       " 'xm_transformer_600m-en_ar-multi_domain',\n",
       " 'xm_transformer_600m-en_es-multi_domain',\n",
       " 'xm_transformer_600m-en_fr-multi_domain',\n",
       " 'xm_transformer_600m-en_ru-multi_domain',\n",
       " 'xm_transformer_600m-en_tr-multi_domain',\n",
       " 'xm_transformer_600m-en_vi-multi_domain',\n",
       " 'xm_transformer_600m-en_zh-multi_domain',\n",
       " 'xm_transformer_600m-es_en-multi_domain',\n",
       " 'xm_transformer_600m-fr_en-multi_domain',\n",
       " 'xm_transformer_600m-ru_en-multi_domain']"
      ]
     },
     "execution_count": 1,
     "metadata": {},
     "output_type": "execute_result"
    }
   ],
   "source": [
    "import torch\n",
    "\n",
    "# List available models\n",
    "torch.hub.list('pytorch/fairseq')  # [..., 'transformer.wmt18.en-de', ... ]"
   ]
  },
  {
   "cell_type": "code",
   "execution_count": 2,
   "id": "de717bee-255e-43e3-9c74-8a6521c868c2",
   "metadata": {},
   "outputs": [
    {
     "name": "stderr",
     "output_type": "stream",
     "text": [
      "Using cache found in /Users/wiktorlazarski/.cache/torch/hub/pytorch_fairseq_main\n",
      "2022-04-21 22:36:59 | INFO | fairseq.file_utils | loading archive file https://dl.fbaipublicfiles.com/fairseq/models/wmt19.en-de.joined-dict.single_model.tar.gz from cache at /Users/wiktorlazarski/.cache/torch/pytorch_fairseq/81a0be5cbbf1c106320ef94681844d4594031c94c16b0475be11faa5a5120c48.63b093d59e7e0814ff799bb965ed4cbde30200b8c93a44bf8c1e5e98f5c54db3\n",
      "2022-04-21 22:37:01 | INFO | fairseq.tasks.translation | [en] dictionary: 42024 types\n",
      "2022-04-21 22:37:01 | INFO | fairseq.tasks.translation | [de] dictionary: 42024 types\n",
      "2022-04-21 22:37:04 | INFO | fairseq.models.fairseq_model | {'_name': None, 'common': {'_name': None, 'no_progress_bar': True, 'log_interval': 100, 'log_format': 'simple', 'log_file': None, 'aim_repo': None, 'aim_run_hash': None, 'tensorboard_logdir': '', 'wandb_project': None, 'azureml_logging': False, 'seed': 2, 'cpu': False, 'tpu': False, 'bf16': False, 'memory_efficient_bf16': False, 'fp16': True, 'memory_efficient_fp16': False, 'fp16_no_flatten_grads': False, 'fp16_init_scale': 128, 'fp16_scale_window': None, 'fp16_scale_tolerance': 0.0, 'on_cpu_convert_precision': False, 'min_loss_scale': 0.0001, 'threshold_loss_scale': None, 'amp': False, 'amp_batch_retries': 2, 'amp_init_scale': 128, 'amp_scale_window': None, 'user_dir': None, 'empty_cache_freq': 0, 'all_gather_list_size': 16384, 'model_parallel_size': 1, 'quantization_config_path': None, 'profile': False, 'reset_logging': False, 'suppress_crashes': False, 'use_plasma_view': False, 'plasma_path': '/tmp/plasma'}, 'common_eval': {'_name': None, 'path': None, 'post_process': None, 'quiet': False, 'model_overrides': '{}', 'results_path': None}, 'distributed_training': {'_name': None, 'distributed_world_size': 2, 'distributed_num_procs': 1, 'distributed_rank': 0, 'distributed_backend': 'nccl', 'distributed_init_method': 'tcp://localhost:17406', 'distributed_port': -1, 'device_id': 0, 'distributed_no_spawn': False, 'ddp_backend': 'c10d', 'ddp_comm_hook': 'none', 'bucket_cap_mb': 25, 'fix_batches_to_gpus': False, 'find_unused_parameters': False, 'gradient_as_bucket_view': False, 'fast_stat_sync': False, 'heartbeat_timeout': -1, 'broadcast_buffers': False, 'slowmo_momentum': None, 'slowmo_base_algorithm': 'localsgd', 'localsgd_frequency': 3, 'nprocs_per_node': 1, 'pipeline_model_parallel': False, 'pipeline_balance': None, 'pipeline_devices': None, 'pipeline_chunks': 0, 'pipeline_encoder_balance': None, 'pipeline_encoder_devices': None, 'pipeline_decoder_balance': None, 'pipeline_decoder_devices': None, 'pipeline_checkpoint': 'never', 'zero_sharding': 'none', 'fp16': True, 'memory_efficient_fp16': False, 'tpu': True, 'no_reshard_after_forward': False, 'fp32_reduce_scatter': False, 'cpu_offload': False, 'use_sharded_state': False, 'not_fsdp_flatten_parameters': False}, 'dataset': {'_name': None, 'num_workers': 0, 'skip_invalid_size_inputs_valid_test': False, 'max_tokens': 3584, 'batch_size': None, 'required_batch_size_multiple': 8, 'required_seq_len_multiple': 1, 'dataset_impl': None, 'data_buffer_size': 10, 'train_subset': 'train', 'valid_subset': 'valid', 'combine_valid_subsets': None, 'ignore_unused_valid_subsets': False, 'validate_interval': 1, 'validate_interval_updates': 0, 'validate_after_updates': 0, 'fixed_validation_seed': None, 'disable_validation': False, 'max_tokens_valid': 3584, 'batch_size_valid': None, 'max_valid_steps': None, 'curriculum': 0, 'gen_subset': 'test', 'num_shards': 1, 'shard_id': 0, 'grouped_shuffling': False, 'update_epoch_batch_itr': True, 'update_ordered_indices_seed': False}, 'optimization': {'_name': None, 'max_epoch': 0, 'max_update': 201800, 'stop_time_hours': 0.0, 'clip_norm': 0.0, 'sentence_avg': False, 'update_freq': [1], 'lr': [0.0007], 'stop_min_lr': 1e-09, 'use_bmuf': False, 'skip_remainder_batch': False}, 'checkpoint': {'_name': None, 'save_dir': '/checkpoint/edunov/20190403/wmt19en2de.btsample5.ffn8192.transformer_wmt_en_de_big_bsz3584_lr0.0007_dr0.2_size_updates200000_seed20_lbsm0.1_size_sa1_upsample2//finetune1', 'restore_file': 'checkpoint_last.pt', 'continue_once': None, 'finetune_from_model': None, 'reset_dataloader': False, 'reset_lr_scheduler': False, 'reset_meters': False, 'reset_optimizer': False, 'optimizer_overrides': '{}', 'save_interval': 1, 'save_interval_updates': 200, 'keep_interval_updates': -1, 'keep_interval_updates_pattern': -1, 'keep_last_epochs': -1, 'keep_best_checkpoints': -1, 'no_save': False, 'no_epoch_checkpoints': False, 'no_last_checkpoints': False, 'no_save_optimizer_state': False, 'best_checkpoint_metric': 'loss', 'maximize_best_checkpoint_metric': False, 'patience': -1, 'checkpoint_suffix': '', 'checkpoint_shard_count': 1, 'load_checkpoint_on_all_dp_ranks': False, 'write_checkpoints_asynchronously': False, 'model_parallel_size': 1}, 'bmuf': {'_name': None, 'block_lr': 1.0, 'block_momentum': 0.875, 'global_sync_iter': 50, 'warmup_iterations': 500, 'use_nbm': False, 'average_sync': False, 'distributed_world_size': 2}, 'generation': {'_name': None, 'beam': 5, 'nbest': 1, 'max_len_a': 0.0, 'max_len_b': 200, 'min_len': 1, 'match_source_len': False, 'unnormalized': False, 'no_early_stop': False, 'no_beamable_mm': False, 'lenpen': 1.0, 'unkpen': 0.0, 'replace_unk': None, 'sacrebleu': False, 'score_reference': False, 'prefix_size': 0, 'no_repeat_ngram_size': 0, 'sampling': False, 'sampling_topk': -1, 'sampling_topp': -1.0, 'constraints': None, 'temperature': 1.0, 'diverse_beam_groups': -1, 'diverse_beam_strength': 0.5, 'diversity_rate': -1.0, 'print_alignment': None, 'print_step': False, 'lm_path': None, 'lm_weight': 0.0, 'iter_decode_eos_penalty': 0.0, 'iter_decode_max_iter': 10, 'iter_decode_force_max_iter': False, 'iter_decode_with_beam': 1, 'iter_decode_with_external_reranker': False, 'retain_iter_history': False, 'retain_dropout': False, 'retain_dropout_modules': None, 'decoding_format': None, 'no_seed_provided': False}, 'eval_lm': {'_name': None, 'output_word_probs': False, 'output_word_stats': False, 'context_window': 0, 'softmax_batch': 9223372036854775807}, 'interactive': {'_name': None, 'buffer_size': 0, 'input': '-'}, 'model': Namespace(no_progress_bar=True, log_interval=100, log_format='simple', tensorboard_logdir='', seed=2, cpu=False, fp16=True, memory_efficient_fp16=False, fp16_init_scale=128, fp16_scale_window=None, fp16_scale_tolerance=0.0, min_loss_scale=0.0001, threshold_loss_scale=None, user_dir=None, task='translation', num_workers=0, skip_invalid_size_inputs_valid_test=False, max_tokens=3584, max_sentences=None, train_subset='train', valid_subset='valid', max_sentences_valid=None, distributed_world_size=2, distributed_rank=0, distributed_backend='nccl', distributed_init_method='tcp://localhost:17406', distributed_port=-1, device_id=0, ddp_backend='c10d', bucket_cap_mb=25, fix_batches_to_gpus=False, arch='transformer_wmt_en_de_big', criterion='label_smoothed_cross_entropy', max_epoch=0, max_update=201800, clip_norm=0.0, sentence_avg=False, update_freq=[1], optimizer='adam', lr=[0.0007], momentum=0.99, weight_decay=0.0, lr_scheduler='inverse_sqrt', lr_shrink=0.1, save_dir='/checkpoint/edunov/20190403/wmt19en2de.btsample5.ffn8192.transformer_wmt_en_de_big_bsz3584_lr0.0007_dr0.2_size_updates200000_seed20_lbsm0.1_size_sa1_upsample2//finetune1', restore_file='checkpoint_last.pt', reset_optimizer=False, reset_lr_scheduler=False, optimizer_overrides='{}', save_interval=1, save_interval_updates=200, keep_interval_updates=-1, keep_last_epochs=-1, no_save=False, no_epoch_checkpoints=False, validate_interval=1, no_token_positional_embeddings=False, label_smoothing=0.1, adam_betas='(0.9, 0.98)', adam_eps=1e-08, warmup_updates=4000, warmup_init_lr=1e-07, data='/Users/wiktorlazarski/.cache/torch/pytorch_fairseq/81a0be5cbbf1c106320ef94681844d4594031c94c16b0475be11faa5a5120c48.63b093d59e7e0814ff799bb965ed4cbde30200b8c93a44bf8c1e5e98f5c54db3', extra_data='', source_lang='en', target_lang='de', lazy_load=False, raw_text=False, left_pad_source=True, left_pad_target=False, max_source_positions=1024, max_target_positions=1024, upsample_primary=1, share_all_embeddings=True, dropout=0.2, encoder_ffn_embed_dim=8192, attention_dropout=0.1, encoder_embed_dim=1024, encoder_attention_heads=16, encoder_normalize_before=False, decoder_embed_dim=1024, decoder_ffn_embed_dim=4096, decoder_attention_heads=16, encoder_embed_path=None, encoder_layers=6, encoder_learned_pos=False, decoder_embed_path=None, decoder_layers=6, decoder_normalize_before=False, decoder_learned_pos=False, relu_dropout=0.0, adaptive_softmax_cutoff=None, adaptive_softmax_dropout=0, share_decoder_input_output_embed=True, adaptive_input=False, decoder_output_dim=1024, decoder_input_dim=1024, tokenizer='moses', bpe='fastbpe', bpe_codes='/Users/wiktorlazarski/.cache/torch/pytorch_fairseq/81a0be5cbbf1c106320ef94681844d4594031c94c16b0475be11faa5a5120c48.63b093d59e7e0814ff799bb965ed4cbde30200b8c93a44bf8c1e5e98f5c54db3/bpecodes', stop_min_lr=1e-09, _name='transformer_wmt_en_de_big', activation_dropout=0.0, activation_fn='relu', no_cross_attention=False, cross_self_attention=False, no_scale_embedding=False, layernorm_embedding=False, tie_adaptive_weights=False, checkpoint_activations=False, offload_activations=False, encoder_layers_to_keep=None, decoder_layers_to_keep=None, encoder_layerdrop=0, decoder_layerdrop=0, quant_noise_pq=0, quant_noise_pq_block_size=8, quant_noise_scalar=0), 'task': {'_name': 'translation', 'data': '/Users/wiktorlazarski/.cache/torch/pytorch_fairseq/81a0be5cbbf1c106320ef94681844d4594031c94c16b0475be11faa5a5120c48.63b093d59e7e0814ff799bb965ed4cbde30200b8c93a44bf8c1e5e98f5c54db3', 'source_lang': 'en', 'target_lang': 'de', 'load_alignments': False, 'left_pad_source': True, 'left_pad_target': False, 'max_source_positions': 1024, 'max_target_positions': 1024, 'upsample_primary': 1, 'truncate_source': False, 'num_batch_buckets': 0, 'train_subset': 'train', 'dataset_impl': None, 'required_seq_len_multiple': 1, 'eval_bleu': False, 'eval_bleu_args': '{}', 'eval_bleu_detok': 'space', 'eval_bleu_detok_args': '{}', 'eval_tokenized_bleu': False, 'eval_bleu_remove_bpe': None, 'eval_bleu_print_samples': False}, 'criterion': {'_name': 'label_smoothed_cross_entropy', 'label_smoothing': 0.1, 'report_accuracy': False, 'ignore_prefix_size': 0, 'sentence_avg': False}, 'optimizer': {'_name': 'adam', 'adam_betas': '(0.9, 0.98)', 'adam_eps': 1e-08, 'weight_decay': 0.0, 'use_old_adam': False, 'fp16_adam_stats': False, 'tpu': True, 'lr': [0.0007]}, 'lr_scheduler': {'_name': 'inverse_sqrt', 'warmup_updates': 4000, 'warmup_init_lr': 1e-07, 'lr': [0.0007]}, 'scoring': None, 'bpe': {'_name': 'fastbpe', 'bpe_codes': '/Users/wiktorlazarski/.cache/torch/pytorch_fairseq/81a0be5cbbf1c106320ef94681844d4594031c94c16b0475be11faa5a5120c48.63b093d59e7e0814ff799bb965ed4cbde30200b8c93a44bf8c1e5e98f5c54db3/bpecodes'}, 'tokenizer': {'_name': 'moses', 'source_lang': 'en', 'target_lang': 'de', 'moses_no_dash_splits': False, 'moses_no_escape': False}, 'ema': {'_name': None, 'store_ema': False, 'ema_decay': 0.9999, 'ema_start_update': 0, 'ema_seed_model': None, 'ema_update_freq': 1, 'ema_fp32': False}, 'simul_type': None}\n",
      "Loading codes from /Users/wiktorlazarski/.cache/torch/pytorch_fairseq/81a0be5cbbf1c106320ef94681844d4594031c94c16b0475be11faa5a5120c48.63b093d59e7e0814ff799bb965ed4cbde30200b8c93a44bf8c1e5e98f5c54db3/bpecodes ...\n",
      "Read 30000 codes from the codes file.\n",
      "Using cache found in /Users/wiktorlazarski/.cache/torch/hub/pytorch_fairseq_main\n",
      "2022-04-21 22:37:05 | INFO | fairseq.file_utils | https://dl.fbaipublicfiles.com/fairseq/models/wmt19.de-en.joined-dict.single_model.tar.gz not found in cache, downloading to /var/folders/tp/n1w_d2kn0c77twncszkd3ns80000gn/T/tmpai9nl66o\n",
      "100%|██████████████████████████████████████████████████████████████████████████████████████████████████████| 2992273886/2992273886 [24:50<00:00, 2007066.65B/s]\n",
      "2022-04-21 23:01:57 | INFO | fairseq.file_utils | copying /var/folders/tp/n1w_d2kn0c77twncszkd3ns80000gn/T/tmpai9nl66o to cache at /Users/wiktorlazarski/.cache/torch/pytorch_fairseq/f42bb1b72d293668a5c50d9589fd2f3cc27322e390b1ef4cf3fdcf625c0d2fd7.bf6e22453272c2cba218a5ccecd045f73e926c34c1d66c47c9b31233343820a9\n",
      "2022-04-21 23:01:59 | INFO | fairseq.file_utils | creating metadata file for /Users/wiktorlazarski/.cache/torch/pytorch_fairseq/f42bb1b72d293668a5c50d9589fd2f3cc27322e390b1ef4cf3fdcf625c0d2fd7.bf6e22453272c2cba218a5ccecd045f73e926c34c1d66c47c9b31233343820a9\n",
      "2022-04-21 23:01:59 | INFO | fairseq.file_utils | removing temp file /var/folders/tp/n1w_d2kn0c77twncszkd3ns80000gn/T/tmpai9nl66o\n",
      "2022-04-21 23:02:00 | INFO | fairseq.file_utils | loading archive file https://dl.fbaipublicfiles.com/fairseq/models/wmt19.de-en.joined-dict.single_model.tar.gz from cache at /Users/wiktorlazarski/.cache/torch/pytorch_fairseq/f42bb1b72d293668a5c50d9589fd2f3cc27322e390b1ef4cf3fdcf625c0d2fd7.bf6e22453272c2cba218a5ccecd045f73e926c34c1d66c47c9b31233343820a9\n",
      "2022-04-21 23:02:00 | INFO | fairseq.file_utils | extracting archive file /Users/wiktorlazarski/.cache/torch/pytorch_fairseq/f42bb1b72d293668a5c50d9589fd2f3cc27322e390b1ef4cf3fdcf625c0d2fd7.bf6e22453272c2cba218a5ccecd045f73e926c34c1d66c47c9b31233343820a9 to temp dir /var/folders/tp/n1w_d2kn0c77twncszkd3ns80000gn/T/tmpw6iissne\n",
      "2022-04-21 23:02:41 | INFO | fairseq.tasks.translation | [de] dictionary: 42024 types\n",
      "2022-04-21 23:02:41 | INFO | fairseq.tasks.translation | [en] dictionary: 42024 types\n",
      "2022-04-21 23:02:44 | INFO | fairseq.models.fairseq_model | {'_name': None, 'common': {'_name': None, 'no_progress_bar': True, 'log_interval': 100, 'log_format': 'simple', 'log_file': None, 'aim_repo': None, 'aim_run_hash': None, 'tensorboard_logdir': '', 'wandb_project': None, 'azureml_logging': False, 'seed': 2, 'cpu': False, 'tpu': False, 'bf16': False, 'memory_efficient_bf16': False, 'fp16': True, 'memory_efficient_fp16': False, 'fp16_no_flatten_grads': False, 'fp16_init_scale': 128, 'fp16_scale_window': None, 'fp16_scale_tolerance': 0.0, 'on_cpu_convert_precision': False, 'min_loss_scale': 0.0001, 'threshold_loss_scale': None, 'amp': False, 'amp_batch_retries': 2, 'amp_init_scale': 128, 'amp_scale_window': None, 'user_dir': None, 'empty_cache_freq': 0, 'all_gather_list_size': 16384, 'model_parallel_size': 1, 'quantization_config_path': None, 'profile': False, 'reset_logging': False, 'suppress_crashes': False, 'use_plasma_view': False, 'plasma_path': '/tmp/plasma'}, 'common_eval': {'_name': None, 'path': None, 'post_process': None, 'quiet': False, 'model_overrides': '{}', 'results_path': None}, 'distributed_training': {'_name': None, 'distributed_world_size': 2, 'distributed_num_procs': 1, 'distributed_rank': 0, 'distributed_backend': 'nccl', 'distributed_init_method': 'tcp://localhost:12536', 'distributed_port': -1, 'device_id': 0, 'distributed_no_spawn': False, 'ddp_backend': 'c10d', 'ddp_comm_hook': 'none', 'bucket_cap_mb': 25, 'fix_batches_to_gpus': False, 'find_unused_parameters': False, 'gradient_as_bucket_view': False, 'fast_stat_sync': False, 'heartbeat_timeout': -1, 'broadcast_buffers': False, 'slowmo_momentum': None, 'slowmo_base_algorithm': 'localsgd', 'localsgd_frequency': 3, 'nprocs_per_node': 1, 'pipeline_model_parallel': False, 'pipeline_balance': None, 'pipeline_devices': None, 'pipeline_chunks': 0, 'pipeline_encoder_balance': None, 'pipeline_encoder_devices': None, 'pipeline_decoder_balance': None, 'pipeline_decoder_devices': None, 'pipeline_checkpoint': 'never', 'zero_sharding': 'none', 'fp16': True, 'memory_efficient_fp16': False, 'tpu': True, 'no_reshard_after_forward': False, 'fp32_reduce_scatter': False, 'cpu_offload': False, 'use_sharded_state': False, 'not_fsdp_flatten_parameters': False}, 'dataset': {'_name': None, 'num_workers': 0, 'skip_invalid_size_inputs_valid_test': False, 'max_tokens': 3584, 'batch_size': None, 'required_batch_size_multiple': 8, 'required_seq_len_multiple': 1, 'dataset_impl': None, 'data_buffer_size': 10, 'train_subset': 'train', 'valid_subset': 'valid', 'combine_valid_subsets': None, 'ignore_unused_valid_subsets': False, 'validate_interval': 1, 'validate_interval_updates': 0, 'validate_after_updates': 0, 'fixed_validation_seed': None, 'disable_validation': False, 'max_tokens_valid': 3584, 'batch_size_valid': None, 'max_valid_steps': None, 'curriculum': 0, 'gen_subset': 'test', 'num_shards': 1, 'shard_id': 0, 'grouped_shuffling': False, 'update_epoch_batch_itr': True, 'update_ordered_indices_seed': False}, 'optimization': {'_name': None, 'max_epoch': 0, 'max_update': 200200, 'stop_time_hours': 0.0, 'clip_norm': 0.0, 'sentence_avg': False, 'update_freq': [1], 'lr': [0.0007], 'stop_min_lr': 1e-09, 'use_bmuf': False, 'skip_remainder_batch': False}, 'checkpoint': {'_name': None, 'save_dir': '/checkpoint/edunov/20190403/wmt19de2en.btsample5.ffn8192.transformer_wmt_en_de_big_bsz3584_lr0.0007_dr0.2_size_updates200000_seed21_lbsm0.1_size_sa1_upsample4//finetune1', 'restore_file': 'checkpoint_last.pt', 'continue_once': None, 'finetune_from_model': None, 'reset_dataloader': False, 'reset_lr_scheduler': False, 'reset_meters': False, 'reset_optimizer': False, 'optimizer_overrides': '{}', 'save_interval': 1, 'save_interval_updates': 200, 'keep_interval_updates': -1, 'keep_interval_updates_pattern': -1, 'keep_last_epochs': -1, 'keep_best_checkpoints': -1, 'no_save': False, 'no_epoch_checkpoints': False, 'no_last_checkpoints': False, 'no_save_optimizer_state': False, 'best_checkpoint_metric': 'loss', 'maximize_best_checkpoint_metric': False, 'patience': -1, 'checkpoint_suffix': '', 'checkpoint_shard_count': 1, 'load_checkpoint_on_all_dp_ranks': False, 'write_checkpoints_asynchronously': False, 'model_parallel_size': 1}, 'bmuf': {'_name': None, 'block_lr': 1.0, 'block_momentum': 0.875, 'global_sync_iter': 50, 'warmup_iterations': 500, 'use_nbm': False, 'average_sync': False, 'distributed_world_size': 2}, 'generation': {'_name': None, 'beam': 5, 'nbest': 1, 'max_len_a': 0.0, 'max_len_b': 200, 'min_len': 1, 'match_source_len': False, 'unnormalized': False, 'no_early_stop': False, 'no_beamable_mm': False, 'lenpen': 1.0, 'unkpen': 0.0, 'replace_unk': None, 'sacrebleu': False, 'score_reference': False, 'prefix_size': 0, 'no_repeat_ngram_size': 0, 'sampling': False, 'sampling_topk': -1, 'sampling_topp': -1.0, 'constraints': None, 'temperature': 1.0, 'diverse_beam_groups': -1, 'diverse_beam_strength': 0.5, 'diversity_rate': -1.0, 'print_alignment': None, 'print_step': False, 'lm_path': None, 'lm_weight': 0.0, 'iter_decode_eos_penalty': 0.0, 'iter_decode_max_iter': 10, 'iter_decode_force_max_iter': False, 'iter_decode_with_beam': 1, 'iter_decode_with_external_reranker': False, 'retain_iter_history': False, 'retain_dropout': False, 'retain_dropout_modules': None, 'decoding_format': None, 'no_seed_provided': False}, 'eval_lm': {'_name': None, 'output_word_probs': False, 'output_word_stats': False, 'context_window': 0, 'softmax_batch': 9223372036854775807}, 'interactive': {'_name': None, 'buffer_size': 0, 'input': '-'}, 'model': Namespace(no_progress_bar=True, log_interval=100, log_format='simple', tensorboard_logdir='', seed=2, cpu=False, fp16=True, memory_efficient_fp16=False, fp16_init_scale=128, fp16_scale_window=None, fp16_scale_tolerance=0.0, min_loss_scale=0.0001, threshold_loss_scale=None, user_dir=None, task='translation', num_workers=0, skip_invalid_size_inputs_valid_test=False, max_tokens=3584, max_sentences=None, train_subset='train', valid_subset='valid', max_sentences_valid=None, distributed_world_size=2, distributed_rank=0, distributed_backend='nccl', distributed_init_method='tcp://localhost:12536', distributed_port=-1, device_id=0, ddp_backend='c10d', bucket_cap_mb=25, fix_batches_to_gpus=False, arch='transformer_wmt_en_de_big', criterion='label_smoothed_cross_entropy', max_epoch=0, max_update=200200, clip_norm=0.0, sentence_avg=False, update_freq=[1], optimizer='adam', lr=[0.0007], momentum=0.99, weight_decay=0.0, lr_scheduler='inverse_sqrt', lr_shrink=0.1, save_dir='/checkpoint/edunov/20190403/wmt19de2en.btsample5.ffn8192.transformer_wmt_en_de_big_bsz3584_lr0.0007_dr0.2_size_updates200000_seed21_lbsm0.1_size_sa1_upsample4//finetune1', restore_file='checkpoint_last.pt', reset_optimizer=False, reset_lr_scheduler=False, optimizer_overrides='{}', save_interval=1, save_interval_updates=200, keep_interval_updates=-1, keep_last_epochs=-1, no_save=False, no_epoch_checkpoints=False, validate_interval=1, no_token_positional_embeddings=False, label_smoothing=0.1, adam_betas='(0.9, 0.98)', adam_eps=1e-08, warmup_updates=4000, warmup_init_lr=1e-07, data='/Users/wiktorlazarski/.cache/torch/pytorch_fairseq/f42bb1b72d293668a5c50d9589fd2f3cc27322e390b1ef4cf3fdcf625c0d2fd7.bf6e22453272c2cba218a5ccecd045f73e926c34c1d66c47c9b31233343820a9', extra_data='', source_lang='de', target_lang='en', lazy_load=False, raw_text=False, left_pad_source=True, left_pad_target=False, max_source_positions=1024, max_target_positions=1024, upsample_primary=1, share_all_embeddings=True, dropout=0.2, encoder_ffn_embed_dim=8192, attention_dropout=0.1, encoder_embed_dim=1024, encoder_attention_heads=16, encoder_normalize_before=False, decoder_embed_dim=1024, decoder_ffn_embed_dim=4096, decoder_attention_heads=16, encoder_embed_path=None, encoder_layers=6, encoder_learned_pos=False, decoder_embed_path=None, decoder_layers=6, decoder_normalize_before=False, decoder_learned_pos=False, relu_dropout=0.0, adaptive_softmax_cutoff=None, adaptive_softmax_dropout=0, share_decoder_input_output_embed=True, adaptive_input=False, decoder_output_dim=1024, decoder_input_dim=1024, tokenizer='moses', bpe='fastbpe', bpe_codes='/Users/wiktorlazarski/.cache/torch/pytorch_fairseq/f42bb1b72d293668a5c50d9589fd2f3cc27322e390b1ef4cf3fdcf625c0d2fd7.bf6e22453272c2cba218a5ccecd045f73e926c34c1d66c47c9b31233343820a9/bpecodes', stop_min_lr=1e-09, _name='transformer_wmt_en_de_big', activation_dropout=0.0, activation_fn='relu', no_cross_attention=False, cross_self_attention=False, no_scale_embedding=False, layernorm_embedding=False, tie_adaptive_weights=False, checkpoint_activations=False, offload_activations=False, encoder_layers_to_keep=None, decoder_layers_to_keep=None, encoder_layerdrop=0, decoder_layerdrop=0, quant_noise_pq=0, quant_noise_pq_block_size=8, quant_noise_scalar=0), 'task': {'_name': 'translation', 'data': '/Users/wiktorlazarski/.cache/torch/pytorch_fairseq/f42bb1b72d293668a5c50d9589fd2f3cc27322e390b1ef4cf3fdcf625c0d2fd7.bf6e22453272c2cba218a5ccecd045f73e926c34c1d66c47c9b31233343820a9', 'source_lang': 'de', 'target_lang': 'en', 'load_alignments': False, 'left_pad_source': True, 'left_pad_target': False, 'max_source_positions': 1024, 'max_target_positions': 1024, 'upsample_primary': 1, 'truncate_source': False, 'num_batch_buckets': 0, 'train_subset': 'train', 'dataset_impl': None, 'required_seq_len_multiple': 1, 'eval_bleu': False, 'eval_bleu_args': '{}', 'eval_bleu_detok': 'space', 'eval_bleu_detok_args': '{}', 'eval_tokenized_bleu': False, 'eval_bleu_remove_bpe': None, 'eval_bleu_print_samples': False}, 'criterion': {'_name': 'label_smoothed_cross_entropy', 'label_smoothing': 0.1, 'report_accuracy': False, 'ignore_prefix_size': 0, 'sentence_avg': False}, 'optimizer': {'_name': 'adam', 'adam_betas': '(0.9, 0.98)', 'adam_eps': 1e-08, 'weight_decay': 0.0, 'use_old_adam': False, 'fp16_adam_stats': False, 'tpu': True, 'lr': [0.0007]}, 'lr_scheduler': {'_name': 'inverse_sqrt', 'warmup_updates': 4000, 'warmup_init_lr': 1e-07, 'lr': [0.0007]}, 'scoring': None, 'bpe': {'_name': 'fastbpe', 'bpe_codes': '/Users/wiktorlazarski/.cache/torch/pytorch_fairseq/f42bb1b72d293668a5c50d9589fd2f3cc27322e390b1ef4cf3fdcf625c0d2fd7.bf6e22453272c2cba218a5ccecd045f73e926c34c1d66c47c9b31233343820a9/bpecodes'}, 'tokenizer': {'_name': 'moses', 'source_lang': 'de', 'target_lang': 'en', 'moses_no_dash_splits': False, 'moses_no_escape': False}, 'ema': {'_name': None, 'store_ema': False, 'ema_decay': 0.9999, 'ema_start_update': 0, 'ema_seed_model': None, 'ema_update_freq': 1, 'ema_fp32': False}, 'simul_type': None}\n",
      "Loading codes from /Users/wiktorlazarski/.cache/torch/pytorch_fairseq/f42bb1b72d293668a5c50d9589fd2f3cc27322e390b1ef4cf3fdcf625c0d2fd7.bf6e22453272c2cba218a5ccecd045f73e926c34c1d66c47c9b31233343820a9/bpecodes ...\n",
      "Read 30000 codes from the codes file.\n"
     ]
    }
   ],
   "source": [
    "en2de = torch.hub.load('pytorch/fairseq', 'transformer.wmt19.en-de.single_model', tokenizer='moses', bpe='fastbpe')\n",
    "de2en = torch.hub.load('pytorch/fairseq', 'transformer.wmt19.de-en.single_model', tokenizer='moses', bpe='fastbpe')"
   ]
  },
  {
   "cell_type": "code",
   "execution_count": 3,
   "id": "f4df03e7-52e3-45d0-bb98-ec87db7aebe0",
   "metadata": {},
   "outputs": [
    {
     "data": {
      "text/plain": [
       "'PyTorch Hub ist eine fantastische Schnittstelle!'"
      ]
     },
     "execution_count": 3,
     "metadata": {},
     "output_type": "execute_result"
    }
   ],
   "source": [
    "en2de.translate('PyTorch Hub is an awesome interface!')"
   ]
  },
  {
   "cell_type": "code",
   "execution_count": 4,
   "id": "c73687af-19dd-46ee-8dd2-53b55cb740bb",
   "metadata": {},
   "outputs": [],
   "source": [
    "paraphrase = de2en.translate(en2de.translate('PyTorch Hub is an awesome interface!'))\n",
    "assert paraphrase == 'PyTorch Hub is a fantastic interface!'"
   ]
  },
  {
   "cell_type": "code",
   "execution_count": 5,
   "id": "e440102b-4cb1-4b7c-a51b-18c7bdc56963",
   "metadata": {},
   "outputs": [
    {
     "data": {
      "text/plain": [
       "\u001b[0;31mSignature:\u001b[0m\n",
       "\u001b[0men2de\u001b[0m\u001b[0;34m.\u001b[0m\u001b[0mtranslate\u001b[0m\u001b[0;34m(\u001b[0m\u001b[0;34m\u001b[0m\n",
       "\u001b[0;34m\u001b[0m    \u001b[0msentences\u001b[0m\u001b[0;34m:\u001b[0m \u001b[0mList\u001b[0m\u001b[0;34m[\u001b[0m\u001b[0mstr\u001b[0m\u001b[0;34m]\u001b[0m\u001b[0;34m,\u001b[0m\u001b[0;34m\u001b[0m\n",
       "\u001b[0;34m\u001b[0m    \u001b[0mbeam\u001b[0m\u001b[0;34m:\u001b[0m \u001b[0mint\u001b[0m \u001b[0;34m=\u001b[0m \u001b[0;36m5\u001b[0m\u001b[0;34m,\u001b[0m\u001b[0;34m\u001b[0m\n",
       "\u001b[0;34m\u001b[0m    \u001b[0mverbose\u001b[0m\u001b[0;34m:\u001b[0m \u001b[0mbool\u001b[0m \u001b[0;34m=\u001b[0m \u001b[0;32mFalse\u001b[0m\u001b[0;34m,\u001b[0m\u001b[0;34m\u001b[0m\n",
       "\u001b[0;34m\u001b[0m    \u001b[0;34m**\u001b[0m\u001b[0mkwargs\u001b[0m\u001b[0;34m,\u001b[0m\u001b[0;34m\u001b[0m\n",
       "\u001b[0;34m\u001b[0m\u001b[0;34m)\u001b[0m \u001b[0;34m->\u001b[0m \u001b[0mList\u001b[0m\u001b[0;34m[\u001b[0m\u001b[0mstr\u001b[0m\u001b[0;34m]\u001b[0m\u001b[0;34m\u001b[0m\u001b[0;34m\u001b[0m\u001b[0m\n",
       "\u001b[0;31mDocstring:\u001b[0m <no docstring>\n",
       "\u001b[0;31mFile:\u001b[0m      ~/.cache/torch/hub/pytorch_fairseq_main/fairseq/hub_utils.py\n",
       "\u001b[0;31mType:\u001b[0m      method\n"
      ]
     },
     "metadata": {},
     "output_type": "display_data"
    }
   ],
   "source": [
    "?en2de.translate"
   ]
  },
  {
   "cell_type": "code",
   "execution_count": 6,
   "id": "6cf3dfe7-c373-4c3b-ab0b-631807808222",
   "metadata": {},
   "outputs": [
    {
     "data": {
      "text/plain": [
       "'Wiktor was in Erlangen for a whole week!'"
      ]
     },
     "execution_count": 6,
     "metadata": {},
     "output_type": "execute_result"
    }
   ],
   "source": [
    "de2en.translate(en2de.translate(\"Wiktor was in Erlangen for entire week!\", beam=1), beam=1)"
   ]
  },
  {
   "cell_type": "code",
   "execution_count": 7,
   "id": "3b7b047b-9d71-4e46-93b4-5994035d4c93",
   "metadata": {},
   "outputs": [
    {
     "data": {
      "text/plain": [
       "'Wiktor was in Erlangen for a whole week!'"
      ]
     },
     "execution_count": 7,
     "metadata": {},
     "output_type": "execute_result"
    }
   ],
   "source": [
    "de2en.translate(en2de.translate(\"Wiktor was in Erlangen for entire week!\", beam=1), beam=5)"
   ]
  },
  {
   "cell_type": "code",
   "execution_count": 8,
   "id": "b0c7544a-5f58-426e-91a4-387577db654d",
   "metadata": {},
   "outputs": [
    {
     "data": {
      "text/plain": [
       "['Wiktor was in Erlangen for a whole week!', 'Hello']"
      ]
     },
     "execution_count": 8,
     "metadata": {},
     "output_type": "execute_result"
    }
   ],
   "source": [
    "de2en.translate(en2de.translate([\"Wiktor was in Erlangen for entire week!\", \"Hi there\"], beam=1), beam=200)"
   ]
  }
 ],
 "metadata": {
  "kernelspec": {
   "display_name": "Python 3 (ipykernel)",
   "language": "python",
   "name": "python3"
  },
  "language_info": {
   "codemirror_mode": {
    "name": "ipython",
    "version": 3
   },
   "file_extension": ".py",
   "mimetype": "text/x-python",
   "name": "python",
   "nbconvert_exporter": "python",
   "pygments_lexer": "ipython3",
   "version": "3.9.0"
  }
 },
 "nbformat": 4,
 "nbformat_minor": 5
}
